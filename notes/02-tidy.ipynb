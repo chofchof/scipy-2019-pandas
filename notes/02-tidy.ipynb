{
 "cells": [
  {
   "cell_type": "markdown",
   "metadata": {},
   "source": [
    "# Tidy Data  by  Hadley Wickham\n",
    "### Journal of Statistical Software, August 2014, Volume 59, Issue 10\n",
    "### https://www.jstatsoft.org/article/view/v059i10\n",
    "\n",
    "# 2. Defining tidy data\n",
    "\n",
    "## 2.1. Data structure (physical layout)\n",
    "\n",
    "- Most statistical datasets are rectangular **tables** made up of **rows** and **columns**.\n",
    "\n",
    "|              | treatmenta | treatmentb |\n",
    "| ------------ | ---------: | ---------: |\n",
    "| John Smith   |        NaN |          2 |\n",
    "| Jane Doe     |         16 |         11 |\n",
    "| Mary Johnson |          3 |          1 |\n",
    "\n",
    "\n",
    "## 2.2. Data semantics (meaning)\n",
    "\n",
    "- A **dataset** is a collection of **values**, usually either numbers (if quantitative) or strings (if\n",
    "qualitative).\n",
    "- Every **value** belongs to a **variable (feature)** and an **observation (sample)**.\n",
    "- A **variable** contains all values that measure the same underlying attribute (like height, temperature, duration) across units.\n",
    "- An **observation** contains all values measured on the same unit (like a person, or a day, or a race) across attributes.\n",
    "\n",
    "\n",
    "## 2.3. Tidy data\n",
    "\n",
    "**Tidy data** is a standard way of mapping the meaning of a dataset to its structure. A dataset is\n",
    "messy or tidy depending on how rows, columns and tables are matched up with observations,\n",
    "variables and types. In tidy data:\n",
    "\n",
    "1. Each **variable** forms a **column**.\n",
    "2. Each **observation** forms a **row**.\n",
    "3. Each **type** of observational unit forms a **table**.\n",
    "\n",
    "| name         | trt  | result |\n",
    "| ------------ | :--- | -----: |\n",
    "| John Smith   | a    |    NaN |\n",
    "| Jane Doe     | a    |     16 |\n",
    "| Mary Johnson | a    |      3 |\n",
    "| John Smith   | b    |      2 |\n",
    "| Jane Doe     | b    |     11 |\n",
    "| Mary Johnson | b    |      1 |"
   ]
  },
  {
   "cell_type": "markdown",
   "metadata": {},
   "source": [
    "# 3. Tidying messy datasets\n",
    "\n",
    "## 3.1. Column headers are values, not variable names"
   ]
  },
  {
   "cell_type": "code",
   "execution_count": null,
   "metadata": {},
   "outputs": [],
   "source": [
    "import numpy as np\n",
    "import pandas as pd"
   ]
  },
  {
   "cell_type": "markdown",
   "metadata": {},
   "source": [
    "The dataset in Table 4 (p.6) explores the relationship between income and religion in the US.\n",
    "- It comes from a report produced by the Pew Research Center, an American think-tank that collects data on attitudes to topics ranging from religion to the internet, and produces many reports that contain datasets in this format.\n",
    "\n",
    "```\n",
    "pew = pd.read_csv('../data/pew.csv')\n",
    "pew\n",
    "```"
   ]
  },
  {
   "cell_type": "code",
   "execution_count": null,
   "metadata": {},
   "outputs": [],
   "source": []
  },
  {
   "cell_type": "markdown",
   "metadata": {},
   "source": [
    "- This dataset has three variables, `religion`, `income`, and `frequency`.\n",
    "- To tidy it, we need to **melt**, or **stack** it. In other words, we need to turn columns into rows.\n",
    "- Melting is parameterized by a list of columns that are already variables, or **colvar**s for short.\n",
    "\n",
    "> [**References**] https://pandas.pydata.org/pandas-docs/stable/reference/api/pandas.DataFrame.melt.html\n",
    "\n",
    "> `df.melt(id_vars=None, value_vars=None, var_name=None, value_name='value', col_level=None)`\n",
    "\n",
    "```\n",
    "pew.melt(id_vars='religion')\n",
    "pew_tidy = pew.melt(id_vars='religion', var_name='income', value_name='freq')\n",
    "pew_tidy.head()\n",
    "```"
   ]
  },
  {
   "cell_type": "code",
   "execution_count": null,
   "metadata": {},
   "outputs": [],
   "source": []
  },
  {
   "cell_type": "markdown",
   "metadata": {},
   "source": [
    "Another common use of this data format is to record regularly spaced observations over time.\n",
    "- The Billboard dataset shown in Table 7 records the date a song first entered the Billboard Top 100.\n",
    "- It has variables for `artist`, `track`, `date.entered`, `rank`, and `week`.\n",
    "- The `rank` in each `week` after it enters the top 100 is recorded in 75 columns, `wk1` to `wk75`.\n",
    "- If a song is in the Top 100 for less than 75 weeks the remaining columns are filled with missing values.\n",
    "\n",
    "```\n",
    "billboard = pd.read_csv('../data/billboard.csv')\n",
    "billboard.head()\n",
    "```"
   ]
  },
  {
   "cell_type": "code",
   "execution_count": null,
   "metadata": {},
   "outputs": [],
   "source": []
  },
  {
   "cell_type": "markdown",
   "metadata": {},
   "source": [
    "- Melting yeilds Table 8.\n",
    "\n",
    "```\n",
    "billboard.melt(id_vars=['year', 'artist', 'track', 'time', 'date.entered'],\n",
    "               value_name='rank',\n",
    "               var_name='week')\n",
    "```"
   ]
  },
  {
   "cell_type": "code",
   "execution_count": null,
   "metadata": {},
   "outputs": [],
   "source": []
  },
  {
   "cell_type": "markdown",
   "metadata": {},
   "source": [
    "- tidy data는 어떤 모습?\n",
    "\n",
    "> [**Reference**] https://pandas.pydata.org/pandas-docs/stable/reference/series.html#api-series-str\n",
    "\n",
    "```\n",
    "billboard_tidy = billboard.melt(id_vars=['year', 'artist', 'track', 'time', 'date.entered'],\n",
    "                                value_name='rank',\n",
    "                                var_name='week')\n",
    "billboard_tidy['week'] = billboard_tidy.week.str.extract(r'wk(\\d+)')\n",
    "billboard_tidy\n",
    "```"
   ]
  },
  {
   "cell_type": "code",
   "execution_count": null,
   "metadata": {},
   "outputs": [],
   "source": []
  },
  {
   "cell_type": "markdown",
   "metadata": {},
   "source": [
    "- 아티스트 별 `rank` 평균을 구하라.\n",
    "\n",
    "```\n",
    "(billboard_tidy\n",
    " .groupby('artist')['rank']\n",
    " .mean()\n",
    ")\n",
    "```"
   ]
  },
  {
   "cell_type": "code",
   "execution_count": null,
   "metadata": {},
   "outputs": [],
   "source": []
  },
  {
   "cell_type": "markdown",
   "metadata": {},
   "source": [
    "- 또 다른 데이터셋, 에볼라 바이러스...\n",
    "\n",
    "```\n",
    "ebola = pd.read_csv('../data/country_timeseries.csv')\n",
    "ebola\n",
    "```"
   ]
  },
  {
   "cell_type": "code",
   "execution_count": null,
   "metadata": {},
   "outputs": [],
   "source": []
  },
  {
   "cell_type": "markdown",
   "metadata": {},
   "source": [
    "- 위 데이터셋은 어떻게 멜팅?\n",
    "\n",
    "```\n",
    "ebola_long = ebola.melt(id_vars=['Date', 'Day'],\n",
    "                        var_name='cd_country',\n",
    "                        value_name='count')\n",
    "ebola_long\n",
    "```"
   ]
  },
  {
   "cell_type": "code",
   "execution_count": null,
   "metadata": {},
   "outputs": [],
   "source": []
  },
  {
   "cell_type": "markdown",
   "metadata": {},
   "source": [
    "- `cd_country`에는 어떤 값들이 있나?\n",
    "\n",
    "> [**Reference**] https://pandas.pydata.org/pandas-docs/stable/reference/api/pandas.unique.html\n",
    "\n",
    "```\n",
    "ebola_long.cd_country.unique()\n",
    "```"
   ]
  },
  {
   "cell_type": "code",
   "execution_count": null,
   "metadata": {},
   "outputs": [],
   "source": []
  },
  {
   "cell_type": "markdown",
   "metadata": {},
   "source": [
    "- `cd_country`를 `status`와 `country` 두 컬럼으로 나누려면?\n",
    "\n",
    "> [**Reference**] https://pandas.pydata.org/pandas-docs/stable/reference/series.html#api-series-str\n",
    "\n",
    "```\n",
    "ebola_long.cd_country.str.split('_')\n",
    "ebola_split = ebola_long.cd_country.str.split('_', expand=True)\n",
    "ebola_split.head()\n",
    "```"
   ]
  },
  {
   "cell_type": "code",
   "execution_count": null,
   "metadata": {},
   "outputs": [],
   "source": []
  },
  {
   "cell_type": "markdown",
   "metadata": {},
   "source": [
    "- `ebola_split`를 `ebola_long`에 넣으려면?\n",
    "\n",
    "```\n",
    "ebola_long[['status', 'country']] = ebola_split\n",
    "ebola_long.head()\n",
    "```"
   ]
  },
  {
   "cell_type": "code",
   "execution_count": null,
   "metadata": {},
   "outputs": [],
   "source": []
  },
  {
   "cell_type": "markdown",
   "metadata": {},
   "source": [
    "- 또 다른 시도?\n",
    "\n",
    "> [**Reference**] https://pandas.pydata.org/pandas-docs/stable/reference/api/pandas.DataFrame.reindex.html\n",
    "\n",
    "```\n",
    "ebola_split_rev = (ebola_long\n",
    "                   .cd_country\n",
    "                   .str.split('_', expand=True)\n",
    "                   .rename(columns={0: 'country', 1: 'status'})\n",
    "                  )\n",
    "ebola_split_rev.head()\n",
    "```"
   ]
  },
  {
   "cell_type": "code",
   "execution_count": null,
   "metadata": {},
   "outputs": [],
   "source": []
  },
  {
   "cell_type": "markdown",
   "metadata": {},
   "source": [
    "- 왜 다를까? (**주의**)\n",
    "\n",
    "```\n",
    "ebola_long[['status', 'country']] = ebola_split_rev\n",
    "ebola_long.head()\n",
    "\n",
    "ebola_long.loc[:, ['status', 'country']] = ebola_split_rev\n",
    "ebola_long.head()\n",
    "```"
   ]
  },
  {
   "cell_type": "code",
   "execution_count": null,
   "metadata": {},
   "outputs": [],
   "source": []
  },
  {
   "cell_type": "markdown",
   "metadata": {},
   "source": [
    "## 3.3. Variables are stored in both rows and columns\n",
    "\n",
    "The most complicated form of messy data occurs when variables are stored in both rows and columns.\n",
    "- Table 11 shows daily weather data from the Global Historical Climatology Network for one weather station (MX17004) in Mexico for five months in 2010.\n",
    "- It has variables in individual columns (`id`, `year`, `month`), spread across columns (`d1-d31`) and across rows (`tmin`, `tmax`) (minimum and maximum temperature).\n",
    "- Months with less than 31 days have structural missing values for the last day(s) of the month.\n",
    "- The element column is not a variable; it stores the names of variables.\n",
    "\n",
    "```\n",
    "weather = pd.read_csv('../data/weather.csv')\n",
    "weather\n",
    "```"
   ]
  },
  {
   "cell_type": "code",
   "execution_count": null,
   "metadata": {},
   "outputs": [],
   "source": []
  },
  {
   "cell_type": "markdown",
   "metadata": {},
   "source": [
    "- To tidy this dataset we first melt it with colvars `id`, `year`, `month` and the column that contains variable names, `element`. This yields Table 12(a).\n",
    "\n",
    "```\n",
    "weather_long = weather.melt(id_vars=['id', 'year', 'month', 'element'],\n",
    "                            var_name='day',\n",
    "                            value_name='temp')\n",
    "weather_long.head()\n",
    "```"
   ]
  },
  {
   "cell_type": "code",
   "execution_count": null,
   "metadata": {},
   "outputs": [],
   "source": []
  },
  {
   "cell_type": "markdown",
   "metadata": {},
   "source": [
    "- This dataset is mostly tidy, but we have two variables stored in rows: `tmin` and `tmax`, the type of observation.\n",
    "- Fixing the issue with the type of observation requires the **cast**, or **unstack**, operation. This performs the inverse of melting by rotating the element variable back out into the columns (Table 12(b)).\n",
    "- This form is tidy. There is one variable in each column, and each row represents a day's observations.\n",
    "\n",
    "> [**Reference**] https://pandas.pydata.org/pandas-docs/stable/reference/api/pandas.pivot_table.html\n",
    "\n",
    "```\n",
    "weather_long.pivot_table(index=['id', 'year', 'month', 'day'],\n",
    "                         columns='element',\n",
    "                         values='temp')\n",
    "                         \n",
    "(weather_long.pivot_table(index=['id', 'year', 'month', 'day'],\n",
    "                          columns='element',\n",
    "                          values='temp')\n",
    " .reset_index()\n",
    ")\n",
    "```"
   ]
  },
  {
   "cell_type": "code",
   "execution_count": null,
   "metadata": {},
   "outputs": [],
   "source": []
  },
  {
   "cell_type": "markdown",
   "metadata": {},
   "source": [
    "### **Exercise**: `year`, `month`, `day`를 합해 하나의 `date` 컬럼으로 만들어라. (e.g., `2019-01-30`)"
   ]
  },
  {
   "cell_type": "code",
   "execution_count": null,
   "metadata": {},
   "outputs": [],
   "source": []
  }
 ],
 "metadata": {
  "kernelspec": {
   "display_name": "Python 3",
   "language": "python",
   "name": "python3"
  },
  "language_info": {
   "codemirror_mode": {
    "name": "ipython",
    "version": 3
   },
   "file_extension": ".py",
   "mimetype": "text/x-python",
   "name": "python",
   "nbconvert_exporter": "python",
   "pygments_lexer": "ipython3",
   "version": "3.7.4"
  }
 },
 "nbformat": 4,
 "nbformat_minor": 4
}
