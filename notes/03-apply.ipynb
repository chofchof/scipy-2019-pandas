{
 "cells": [
  {
   "cell_type": "code",
   "execution_count": null,
   "metadata": {},
   "outputs": [],
   "source": [
    "import numpy as np\n",
    "import pandas as pd"
   ]
  },
  {
   "cell_type": "markdown",
   "metadata": {},
   "source": [
    "### Apply a function along an axis of the DataFrame\n",
    "\n",
    "> [**Reference**] https://pandas.pydata.org/pandas-docs/stable/reference/api/pandas.DataFrame.apply.html\n",
    "\n",
    "> `df.apply(func, axis=0, broadcast=None, raw=False, reduce=None, result_type=None, args=(), **kwds)`\n",
    "\n",
    "- **Recall**: 파이썬 함수 만들기\n",
    "\n",
    "```\n",
    "def my_func(x, y):\n",
    "    pass\n",
    "my_func(1, 2)\n",
    "    \n",
    "def my_square(x):\n",
    "    return x ** 2\n",
    "my_square(2)\n",
    "my_square(4)\n",
    "\n",
    "assert my_square(4) == 16\n",
    "assert my_square(4) == 15 # AssertionError\n",
    "\n",
    "avg_2 = lambda x, y: (x + y) / 2\n",
    "avg_2(10, 20)\n",
    "```"
   ]
  },
  {
   "cell_type": "code",
   "execution_count": null,
   "metadata": {},
   "outputs": [],
   "source": []
  },
  {
   "cell_type": "markdown",
   "metadata": {},
   "source": [
    "```\n",
    "df = pd.DataFrame({\n",
    "    'a': [10, 20, 30],\n",
    "    'b': [20, 30, 40]\n",
    "})\n",
    "df\n",
    "\n",
    "df['a'] ** 2\n",
    "df ** 2\n",
    "```"
   ]
  },
  {
   "cell_type": "code",
   "execution_count": null,
   "metadata": {},
   "outputs": [],
   "source": []
  },
  {
   "cell_type": "markdown",
   "metadata": {},
   "source": [
    "```\n",
    "my_square\n",
    "df['a'].apply(my_square)\n",
    "```"
   ]
  },
  {
   "cell_type": "code",
   "execution_count": null,
   "metadata": {},
   "outputs": [],
   "source": []
  },
  {
   "cell_type": "markdown",
   "metadata": {},
   "source": [
    "```\n",
    "def my_exp(x, e):\n",
    "    return x ** e\n",
    "my_exp(2, 10)\n",
    "\n",
    "df['a'].apply(my_exp, e=4)\n",
    "```"
   ]
  },
  {
   "cell_type": "code",
   "execution_count": null,
   "metadata": {},
   "outputs": [],
   "source": []
  },
  {
   "cell_type": "markdown",
   "metadata": {},
   "source": [
    "- `axis=0`: apply function to each column (**default**)\n",
    "- `axis=1`: apply function to each row\n",
    "\n",
    "```\n",
    "def print_me(x):\n",
    "    print(x)\n",
    "    return x.sum()\n",
    "df\n",
    "\n",
    "df.apply(print_me)\n",
    "df.apply(print_me, axis=1)\n",
    "```"
   ]
  },
  {
   "cell_type": "code",
   "execution_count": null,
   "metadata": {},
   "outputs": [],
   "source": []
  },
  {
   "cell_type": "markdown",
   "metadata": {},
   "source": [
    "```\n",
    "avg_3 = lambda x, y, z: (x + y + z) / 3\n",
    "df.apply(avg_3)\n",
    "\n",
    "avg_3_apply = lambda col: np.mean(col)\n",
    "df.apply(avg_3_apply)\n",
    "\n",
    "def avg_3_apply(col):\n",
    "    x = col[0]\n",
    "    y = col[1]\n",
    "    z = col[2]\n",
    "    return (x + y + z) / 3\n",
    "df.apply(avg_3_apply)\n",
    "```"
   ]
  },
  {
   "cell_type": "code",
   "execution_count": null,
   "metadata": {},
   "outputs": [],
   "source": []
  },
  {
   "cell_type": "markdown",
   "metadata": {},
   "source": [
    "```\n",
    "def avg_3_apply(col):\n",
    "    x = col[0]\n",
    "    y = col[1]\n",
    "    z = col[2]\n",
    "    return (x + y + z) / 3\n",
    "df.apply(avg_3_apply)\n",
    "\n",
    "df.apply(avg_3_apply, axis=1) # IndexError\n",
    "```"
   ]
  },
  {
   "cell_type": "code",
   "execution_count": null,
   "metadata": {},
   "outputs": [],
   "source": []
  },
  {
   "cell_type": "markdown",
   "metadata": {},
   "source": [
    "```\n",
    "df['a'].mean()\n",
    "df['a'] + df['b']\n",
    "```"
   ]
  },
  {
   "cell_type": "code",
   "execution_count": null,
   "metadata": {},
   "outputs": [],
   "source": []
  },
  {
   "cell_type": "markdown",
   "metadata": {},
   "source": [
    "```\n",
    "def avg_2_mod(x, y):\n",
    "    if (x == 20):\n",
    "        return np.NaN # or np.NAN or np.nan\n",
    "    else:\n",
    "        return (x + y) / 2\n",
    "df\n",
    "avg_2_mod(df['a'], df['b']) # ValueError\n",
    "```"
   ]
  },
  {
   "cell_type": "code",
   "execution_count": null,
   "metadata": {},
   "outputs": [],
   "source": []
  },
  {
   "cell_type": "markdown",
   "metadata": {},
   "source": [
    "> [**Reference**] https://docs.scipy.org/doc/numpy/reference/generated/numpy.vectorize.html\n",
    "\n",
    "> - The vectorize function is provided primarily for convenience, not for performance. The implementation is essentially a for loop.\n",
    "\n",
    "```\n",
    "avg_2_mod_vec = np.vectorize(avg_2_mod)\n",
    "df\n",
    "avg_2_mod_vec(df['a'], df['b'])\n",
    "```"
   ]
  },
  {
   "cell_type": "code",
   "execution_count": null,
   "metadata": {},
   "outputs": [],
   "source": []
  },
  {
   "cell_type": "markdown",
   "metadata": {},
   "source": [
    "```\n",
    "@np.vectorize\n",
    "def avg_2_mod(x, y):\n",
    "    if (x == 20):\n",
    "        return np.NaN # or np.NAN or np.nan\n",
    "    else:\n",
    "        return (x + y) / 2\n",
    "avg_2_mod(df['a'], df['b'])\n",
    "```"
   ]
  },
  {
   "cell_type": "code",
   "execution_count": null,
   "metadata": {},
   "outputs": [],
   "source": []
  },
  {
   "cell_type": "markdown",
   "metadata": {},
   "source": [
    "### Numba\n",
    "\n",
    "- Numba is an open source JIT compiler that translates a subset of Python and NumPy code into fast machine code. \n",
    "- https://numba.pydata.org\n",
    "\n",
    "```\n",
    "import numba\n",
    "\n",
    "@numba.vectorize\n",
    "def avg_2_mod_numba(x, y):\n",
    "    if (x == 20):\n",
    "        return np.NaN # or np.NAN or np.nan\n",
    "    else:\n",
    "        return (x + y) / 2\n",
    "avg_2_mod_numba(df['a'].values, df['b'].values)\n",
    "```"
   ]
  },
  {
   "cell_type": "code",
   "execution_count": null,
   "metadata": {},
   "outputs": [],
   "source": []
  },
  {
   "cell_type": "code",
   "execution_count": null,
   "metadata": {},
   "outputs": [],
   "source": [
    "%%timeit\n",
    "avg_2(df['a'], df['b'])"
   ]
  },
  {
   "cell_type": "code",
   "execution_count": null,
   "metadata": {},
   "outputs": [],
   "source": [
    "%%timeit\n",
    "avg_2_mod(df['a'], df['b'])"
   ]
  },
  {
   "cell_type": "code",
   "execution_count": null,
   "metadata": {},
   "outputs": [],
   "source": [
    "%%timeit\n",
    "avg_2_mod_numba(df['a'].to_numpy(), df['b'].to_numpy())"
   ]
  },
  {
   "cell_type": "code",
   "execution_count": null,
   "metadata": {},
   "outputs": [],
   "source": [
    "%%timeit\n",
    "avg_2_mod_numba(df['a'].values, df['b'].values)"
   ]
  },
  {
   "cell_type": "code",
   "execution_count": null,
   "metadata": {},
   "outputs": [],
   "source": []
  }
 ],
 "metadata": {
  "kernelspec": {
   "display_name": "Python 3",
   "language": "python",
   "name": "python3"
  },
  "language_info": {
   "codemirror_mode": {
    "name": "ipython",
    "version": 3
   },
   "file_extension": ".py",
   "mimetype": "text/x-python",
   "name": "python",
   "nbconvert_exporter": "python",
   "pygments_lexer": "ipython3",
   "version": "3.7.4"
  }
 },
 "nbformat": 4,
 "nbformat_minor": 4
}
