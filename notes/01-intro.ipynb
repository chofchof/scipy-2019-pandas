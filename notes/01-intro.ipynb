{
 "cells": [
  {
   "cell_type": "markdown",
   "metadata": {},
   "source": [
    "# pandas: Python Data Analysis Library\n",
    "### https://pandas.pydata.org\n",
    "### pandas documentation: https://pandas.pydata.org/pandas-docs/stable/"
   ]
  },
  {
   "cell_type": "markdown",
   "metadata": {},
   "source": [
    "- 현재 설치된 pandas 버전은? 0.24.2 or 0.25?\n",
    "\n",
    "```\n",
    "import pandas as pd\n",
    "pd.__version__\n",
    "```"
   ]
  },
  {
   "cell_type": "code",
   "execution_count": null,
   "metadata": {},
   "outputs": [],
   "source": []
  },
  {
   "cell_type": "markdown",
   "metadata": {},
   "source": [
    "- 데이터를 불러오는 전형적인 방법은 파일로부터... 실습 데이터는 어디에?\n",
    "\n",
    "```\n",
    "%ls ../data\n",
    "```"
   ]
  },
  {
   "cell_type": "code",
   "execution_count": null,
   "metadata": {},
   "outputs": [],
   "source": []
  },
  {
   "cell_type": "markdown",
   "metadata": {},
   "source": [
    "- CSV (Comma-Separated Values) 또는 TSV (Tab-Separated Values) 파일에서 데이터를 불러오자.\n",
    "\n",
    "> [**Reference**] https://pandas.pydata.org/pandas-docs/stable/user_guide/io.html\n",
    "\n",
    "```\n",
    "df = pd.read_csv('../data/gapminder.tsv')\n",
    "df\n",
    "```"
   ]
  },
  {
   "cell_type": "code",
   "execution_count": null,
   "metadata": {},
   "outputs": [],
   "source": []
  },
  {
   "cell_type": "markdown",
   "metadata": {},
   "source": [
    "- `Series` is a one-dimensional labeled array capable of holding any data type (integers, strings, floating point numbers, Python objects, etc.). The axis labels are collectively referred to as the **index**.\n",
    "\n",
    "- `DataFrame` is a two-dimensional labeled data structure with columns of potentially different types. Along with the data, you can optionally pass **index** (row labels) and **columns** (column labels) arguments.\n",
    "\n",
    "- `gapminder.tsv`는 `Series` or `DataFrame`?\n",
    "\n",
    "```\n",
    "type(df)\n",
    "```"
   ]
  },
  {
   "cell_type": "code",
   "execution_count": null,
   "metadata": {},
   "outputs": [],
   "source": []
  },
  {
   "cell_type": "markdown",
   "metadata": {},
   "source": [
    "- `pandas.core.frame.DataFrame`은 도대체 어디에?\n",
    "\n",
    "```\n",
    "pd.DataFrame?\n",
    "```"
   ]
  },
  {
   "cell_type": "code",
   "execution_count": null,
   "metadata": {},
   "outputs": [],
   "source": []
  },
  {
   "cell_type": "markdown",
   "metadata": {},
   "source": [
    "- `DataFrame` 클래스의 속성(attribute)은?\n",
    "\n",
    "> [**Reference**] https://pandas.pydata.org/pandas-docs/stable/reference/frame.html\n",
    "\n",
    "```\n",
    "df.shape\n",
    "df.dtype\n",
    "df.columns\n",
    "df.index\n",
    "```"
   ]
  },
  {
   "cell_type": "code",
   "execution_count": null,
   "metadata": {},
   "outputs": [],
   "source": []
  },
  {
   "cell_type": "markdown",
   "metadata": {},
   "source": [
    "- 한번에 `DataFrame`의 정보를 보려면?\n",
    "> [**Reference**] https://pandas.pydata.org/pandas-docs/stable/reference/api/pandas.DataFrame.info.html\n",
    "\n",
    "```\n",
    "df.info()\n",
    "```"
   ]
  },
  {
   "cell_type": "code",
   "execution_count": null,
   "metadata": {},
   "outputs": [],
   "source": []
  },
  {
   "cell_type": "markdown",
   "metadata": {},
   "source": [
    "- `DataFrame`의 값들은? We recommend using `df.to_numpy()` instead of `df.values`!\n",
    "> [**Reference**] https://pandas.pydata.org/pandas-docs/stable/reference/api/pandas.DataFrame.values.html\n",
    "> [**Reference**] https://pandas.pydata.org/pandas-docs/stable/reference/api/pandas.DataFrame.to_numpy.html\n",
    ">  > `result = np.array(self.values, dtype=dtype, copy=copy)`\n",
    "\n",
    "```\n",
    "df.to_numpy()\n",
    "```"
   ]
  },
  {
   "cell_type": "code",
   "execution_count": null,
   "metadata": {},
   "outputs": [],
   "source": []
  },
  {
   "cell_type": "markdown",
   "metadata": {},
   "source": [
    "- 데이터가 너무 많아요...\n",
    "\n",
    "```\n",
    "df.head()\n",
    "df.tail()\n",
    "```"
   ]
  },
  {
   "cell_type": "code",
   "execution_count": null,
   "metadata": {},
   "outputs": [],
   "source": []
  },
  {
   "cell_type": "markdown",
   "metadata": {},
   "source": [
    "- 귀찮더라도 한번은 꼭 봐야 할 [**Indexing and selecting data**](https://pandas.pydata.org/pandas-docs/stable/user_guide/indexing.html)\n",
    "\n",
    "### Basic indexing\n",
    "- The primary function of indexing with `[]` (a.k.a. `__getitem__`) is selecting out lower-dimensional slices.\n",
    "  - Series: `s[label]` returns scalar value\n",
    "  - DataFrame: `df[colname]` returns Series corresponding to `colname`\n",
    "\n",
    "```\n",
    "country = df['country'] # or df.__getitem__('country')\n",
    "country\n",
    "type(country)\n",
    "```"
   ]
  },
  {
   "cell_type": "code",
   "execution_count": null,
   "metadata": {},
   "outputs": [],
   "source": []
  },
  {
   "cell_type": "markdown",
   "metadata": {},
   "source": [
    "- You can pass a list of columns to `[]` to select columns in **that order**.\n",
    "\n",
    "```\n",
    "continent_and_country = df[['continent', 'country']]\n",
    "continent_and_country\n",
    "\n",
    "country_and_continent = df[['country', 'continent']]\n",
    "country_and_continent\n",
    "```"
   ]
  },
  {
   "cell_type": "code",
   "execution_count": null,
   "metadata": {},
   "outputs": [],
   "source": []
  },
  {
   "cell_type": "markdown",
   "metadata": {},
   "source": [
    "- 리스트에 여러 개가 아니라 하나만 들어있으면?\n",
    "\n",
    "```\n",
    "continent = df[['continent']]\n",
    "continent.head()\n",
    "type(continent)\n",
    "```"
   ]
  },
  {
   "cell_type": "code",
   "execution_count": null,
   "metadata": {},
   "outputs": [],
   "source": []
  },
  {
   "cell_type": "markdown",
   "metadata": {},
   "source": [
    "- `colname`이 없는 경우, 읽을 때(`__getitem__`)는 `KeyError` 발생... 하지만 쓸 때(`__setitem__`)는 새 컬럼을 만들어 준다. \n",
    "\n",
    "```\n",
    "df['const_one']\n",
    "df['const_one'] = 1\n",
    "df.head()\n",
    "```"
   ]
  },
  {
   "cell_type": "code",
   "execution_count": null,
   "metadata": {},
   "outputs": [],
   "source": []
  },
  {
   "cell_type": "markdown",
   "metadata": {},
   "source": [
    "- 로우나 컬럼을 지우려면?\n",
    "> [**Reference**] https://pandas.pydata.org/pandas-docs/stable/reference/api/pandas.DataFrame.drop.html\n",
    "\n",
    "```\n",
    "df_dropped = df.drop([1, 3]) # default: axis=0\n",
    "#df_dropped = df.drop(index=[1, 3])\n",
    "df_dropped.head()\n",
    "\n",
    "df_dropped = df.drop(['continent', 'country'], axis=1)\n",
    "#df_dropped = df.drop(columns=['continent', 'country'])\n",
    "df_dropped.head()\n",
    "```"
   ]
  },
  {
   "cell_type": "code",
   "execution_count": null,
   "metadata": {},
   "outputs": [],
   "source": []
  },
  {
   "cell_type": "markdown",
   "metadata": {},
   "source": [
    "### Different choices for indexing\n",
    "\n",
    "- `.loc` is primarily **label** based, but may also be used with a boolean array. `.loc` will raise `KeyError` when the items are not found. Allowed inputs are:\n",
    "  - A single label `5` or `'a'`\n",
    "  - A list or array of labels `['a', 'b', 'c']`.\n",
    "  - A slice object with labels `'a':'f'` (Both the start and the stop are **included**, when present in the index!)\n",
    "  - A boolean array\n",
    "  - A callable function with one argument (the calling Series or DataFrame) and that returns valid output for indexing (one of the above).\n",
    "  \n",
    "> [**Reference**] https://pandas.pydata.org/pandas-docs/stable/user_guide/indexing.html\n",
    "\n",
    "```\n",
    "df.loc[0]\n",
    "df.loc[[0, 1]]\n",
    "df.loc[1:3]\n",
    "df.loc[-1] # KeyError\n",
    "```"
   ]
  },
  {
   "cell_type": "code",
   "execution_count": null,
   "metadata": {},
   "outputs": [],
   "source": []
  },
  {
   "cell_type": "markdown",
   "metadata": {},
   "source": [
    "- `.iloc` is primarily **integer position** based (from 0 to length-1 of the axis), but may also be used with a boolean array. `.iloc` will raise `IndexError` if a requested indexer is out-of-bounds, except slice indexers which allow out-of-bounds indexing. Allowed inputs are:\n",
    "  - An integer `5`.\n",
    "  - A list or array of integers `[4, 3, 0]`.\n",
    "  - A slice object with integers `1:7` (The stop is **excluded**!).\n",
    "  - A boolean array\n",
    "  - A callable function with one argument (the calling Series or DataFrame) and that returns valid output for indexing (one of the above).\n",
    "\n",
    "> [**Reference**] https://pandas.pydata.org/pandas-docs/stable/user_guide/indexing.html\n",
    "\n",
    "```\n",
    "df.iloc[-1]\n",
    "df.iloc[[0, 1, -1]]\n",
    "df.iloc[1:3]\n",
    "```"
   ]
  },
  {
   "cell_type": "code",
   "execution_count": null,
   "metadata": {},
   "outputs": [],
   "source": []
  },
  {
   "cell_type": "markdown",
   "metadata": {},
   "source": [
    "- Getting values from an object with multi-axes selection uses the following notation.\n",
    "  - Any of the axes accessors may be the null slice `:`.\n",
    "  - Axes left out of the specification are assumed to be `:`, e.g. `p.loc['a']` is equivalent to `p.loc['a', :, :]`.\n",
    "  - Series: `s.loc[indexer]`\n",
    "  - DataFrame: `df.loc[row_indexer, column_indexer]`\n",
    "  \n",
    "```\n",
    "subset = df.loc[:, ['year', 'pop']]\n",
    "subset.head()\n",
    "\n",
    "subset = df.iloc[:, [2, 4]]\n",
    "subset.head()\n",
    "```"
   ]
  },
  {
   "cell_type": "code",
   "execution_count": null,
   "metadata": {},
   "outputs": [],
   "source": []
  },
  {
   "cell_type": "markdown",
   "metadata": {},
   "source": [
    "### Boolean indexing\n",
    "\n",
    "- Another common operation is the use of boolean vectors to filter the data. The operators are: `|` for or, `&` for and, and `~` for not. **These must be grouped by using parentheses**!\n",
    "\n",
    "> [**Reference**] https://pandas.pydata.org/pandas-docs/stable/user_guide/indexing.html#boolean-indexing\n",
    "\n",
    "```\n",
    "df['country'] == 'United States'\n",
    "df.loc[df['country'] == 'United States']\n",
    "df.loc[(df['country'] == 'United States') & (df['year'] == 1982)]\n",
    "df.iloc[df['country'] == 'United States'] # NotImplementedError\n",
    "```"
   ]
  },
  {
   "cell_type": "code",
   "execution_count": null,
   "metadata": {},
   "outputs": [],
   "source": []
  },
  {
   "cell_type": "markdown",
   "metadata": {},
   "source": [
    "- `.iloc`은 index가 없는 boolean indexing만 허용한다!\n",
    "\n",
    "```\n",
    "df.iloc[[True] + [False] * (len(df) - 2) + [True]]\n",
    "```\n",
    "\n",
    "- Boolean indexing은 `df.loc` 또는 간단히 `df`를 사용하자! "
   ]
  },
  {
   "cell_type": "code",
   "execution_count": null,
   "metadata": {},
   "outputs": [],
   "source": []
  },
  {
   "cell_type": "markdown",
   "metadata": {},
   "source": [
    "### Selection by callable\n",
    "\n",
    "- 함수를 이용한 indexing도 간단히 `df`를 사용하자!\n",
    "- 단, row_indexer와 column_index 모두 사용하는 경우에는 `df.loc`!\n",
    "\n",
    "> [**Reference**] https://pandas.pydata.org/pandas-docs/stable/user_guide/indexing.html#selection-by-callable\n",
    "\n",
    "```\n",
    "df[lambda df: df.index < 5]\n",
    "df[lambda df: df.columns[1:3]]\n",
    "df.loc[lambda df: [0, 2, 4], lambda df: ['country', 'continent']]\n",
    "```"
   ]
  },
  {
   "cell_type": "code",
   "execution_count": null,
   "metadata": {},
   "outputs": [],
   "source": []
  }
 ],
 "metadata": {
  "kernelspec": {
   "display_name": "Python 3",
   "language": "python",
   "name": "python3"
  },
  "language_info": {
   "codemirror_mode": {
    "name": "ipython",
    "version": 3
   },
   "file_extension": ".py",
   "mimetype": "text/x-python",
   "name": "python",
   "nbconvert_exporter": "python",
   "pygments_lexer": "ipython3",
   "version": "3.7.4"
  }
 },
 "nbformat": 4,
 "nbformat_minor": 4
}
