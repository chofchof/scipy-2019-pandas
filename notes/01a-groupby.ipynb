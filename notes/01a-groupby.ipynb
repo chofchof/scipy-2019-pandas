{
 "cells": [
  {
   "cell_type": "markdown",
   "metadata": {},
   "source": [
    "# Group By: split-apply-combine\n",
    "### https://pandas.pydata.org/pandas-docs/stable/user_guide/groupby.html\n",
    "\n",
    "By \"group by\" we are referring to a process involving one or more of the following steps:\n",
    "\n",
    "  - **Splitting** the data into groups based on some criteria. (로우들을 그룹으로 나눈다)\n",
    "  - **Applying** a function to each group independently. (그룹별로 무언가 액션을 취한다)\n",
    "  - **Combining** the results into a data structure. (그룹별 결과를 모은다)\n",
    "\n",
    "In the **apply** step, we might wish to do one of the following: (그룹별로 무슨 액션을 취하는가?)\n",
    "\n",
    "  - **Aggregation**: compute a summary statistic (or statistics) for each group. (그룹별로 스칼라 값을 추출)\n",
    "    - Compute group sums or means.\n",
    "    - Compute group sizes / counts.\n",
    "\n",
    "  - **Transformation**: perform some group-specific computations and return a like-indexed object. (그룹별로 새로운 데이터프레임을 만듬)\n",
    "    - Standardize data (zscore) within a group.\n",
    "    - Filling NAs within groups with a value derived from each group.\n",
    "\n",
    "  - **Filtration**: discard some groups, according to a group-wise computation that evaluates True or False. (그룹들 중 어떤 그룹을 살릴지 결정)\n",
    "\n",
    "    - Discard data that belongs to groups with only a few members.\n",
    "    - Filter out data based on the group sum or mean."
   ]
  },
  {
   "cell_type": "code",
   "execution_count": null,
   "metadata": {},
   "outputs": [],
   "source": [
    "import numpy as np\n",
    "import pandas as pd\n",
    "\n",
    "import seaborn as sns\n",
    "\n",
    "tips = sns.load_dataset('tips')\n",
    "tips.head()"
   ]
  },
  {
   "cell_type": "markdown",
   "metadata": {},
   "source": [
    "### Splitting an object into groups\n",
    "\n",
    "- On a DataFrame, we obtain a `GroupBy` object by calling `groupby()`. We could naturally group by either the A or B columns, or both:\n",
    "\n",
    "> [**References**]\n",
    "> - https://pandas.pydata.org/pandas-docs/stable/reference/api/pandas.DataFrame.groupby.html\n",
    "> - https://pandas.pydata.org/pandas-docs/stable/reference/groupby.html#indexing-iteration\n",
    "> - https://pandas.pydata.org/pandas-docs/stable/user_guide/advanced.html\n",
    "\n",
    "```\n",
    "grouped = tips.groupby('smoker')\n",
    "grouped\n",
    "\n",
    "grouped.groups\n",
    "grouped.groups.keys()\n",
    "\n",
    "grouped = tips.groupby(['smoker', 'time'])\n",
    "grouped.groups\n",
    "\n",
    "len(grouped)\n",
    "grouped.sum()\n",
    "grouped.describe()\n",
    "\n",
    "df = grouped.sum()\n",
    "df.index\n",
    "```"
   ]
  },
  {
   "cell_type": "code",
   "execution_count": null,
   "metadata": {},
   "outputs": [],
   "source": []
  },
  {
   "cell_type": "markdown",
   "metadata": {},
   "source": [
    "### Selecting a group\n",
    "\n",
    "- A single group can be selected using `get_group()`:\n",
    "\n",
    "> [**Reference**] https://pandas.pydata.org/pandas-docs/stable/reference/groupby.html#indexing-iteration\n",
    "\n",
    "```\n",
    "keys = list(grouped.groups.keys())\n",
    "keys\n",
    "\n",
    "index = grouped.groups[keys[0]]\n",
    "tips.loc[index]\n",
    "\n",
    "grouped.get_group(keys[0])\n",
    "```"
   ]
  },
  {
   "cell_type": "code",
   "execution_count": null,
   "metadata": {},
   "outputs": [],
   "source": []
  },
  {
   "cell_type": "markdown",
   "metadata": {},
   "source": [
    "### Iterating through groups\n",
    "\n",
    "- With the `GroupBy` object in hand, iterating through the grouped data is very natural and functions similarly to `itertools.groupby()`:\n",
    "\n",
    "> [**Reference**] https://pandas.pydata.org/pandas-docs/stable/reference/groupby.html#indexing-iteration\n",
    "\n",
    "```\n",
    "for key, group in grouped:\n",
    "    print(key, '\\n', group.head(), end='\\n'*2)\n",
    "```"
   ]
  },
  {
   "cell_type": "code",
   "execution_count": null,
   "metadata": {},
   "outputs": [],
   "source": []
  },
  {
   "cell_type": "markdown",
   "metadata": {},
   "source": [
    "### Aggregation\n",
    "\n",
    "- Once the `GroupBy` object has been created, several methods are available to perform a computation on the grouped data. An obvious one is aggregation via the `aggregate()` or equivalently `agg()` method:\n",
    "\n",
    "```\n",
    "grouped2 = grouped[['total_bill', 'tip']]\n",
    "grouped2.get_group(('Yes', 'Lunch')).sum()\n",
    "\n",
    "grouped2.aggregate(np.sum)\n",
    "\n",
    "grouped2.sum()\n",
    "grouped2.agg([np.sum, np.mean, np.std])\n",
    "```"
   ]
  },
  {
   "cell_type": "code",
   "execution_count": null,
   "metadata": {},
   "outputs": [],
   "source": []
  },
  {
   "cell_type": "markdown",
   "metadata": {},
   "source": [
    "### Transformation\n",
    "\n",
    "- The transform method returns an object that is indexed the same (same size) as the one being grouped.\n",
    "\n",
    "> [**Reference**] https://pandas.pydata.org/pandas-docs/stable/user_guide/groupby.html#transformation\n",
    "\n",
    "1. 먼저 1999년 10월 1일부터 2002년 10월 4일까지 1100일간의 시계열데이터를 만든다.\n",
    "2. 데이터 값은 가우시안 분포(평균 0.5, 표준편차 2)에서 랜덤하게 추출한다.\n",
    "3. 이 시계열데이터의 100일 이동평균을 구한다.\n",
    "\n",
    "```\n",
    "index = pd.date_range('10/1/1999', periods=1100)\n",
    "index\n",
    "\n",
    "ts = pd.Series(np.random.normal(0.5, 2, 1100), index)\n",
    "ts.head()\n",
    "\n",
    "ts = ts.rolling(window=100).mean().dropna() # moving window (이동평균)\n",
    "ts.head()\n",
    "```"
   ]
  },
  {
   "cell_type": "code",
   "execution_count": null,
   "metadata": {},
   "outputs": [],
   "source": []
  },
  {
   "cell_type": "markdown",
   "metadata": {},
   "source": [
    "- 각 년도별로 데이터 노멀라이즈는 어떻게? (평균 0, 표준편차 1)\n",
    "> `(s - s.mean()) / s.std()`\n",
    "\n",
    "```\n",
    "grouped = ts.groupby(lambda x: x.year)\n",
    "grouped.groups\n",
    "\n",
    "s = grouped.get_group(2000)\n",
    "(s - s.mean()) / s.std()\n",
    "\n",
    "transformed = grouped.transform(lambda s: (s - s.mean()) / s.std())\n",
    "transformed\n",
    "\n",
    "s = transformed.groupby(lambda x: x.year).get_group(2000)\n",
    "s.mean(), s.std()\n",
    "\n",
    "compare = pd.DataFrame({'Original': ts, 'Transformed': transformed})\n",
    "compare.T\n",
    "\n",
    "compare.plot(figsize=(15,4))\n",
    "```"
   ]
  },
  {
   "cell_type": "code",
   "execution_count": null,
   "metadata": {},
   "outputs": [],
   "source": []
  },
  {
   "cell_type": "markdown",
   "metadata": {},
   "source": [
    "### Filteration\n",
    "\n",
    "- The filter method returns a subset of the original object.\n",
    "\n",
    "```\n",
    "grouped2.sum()\n",
    "\n",
    "df = grouped2.filter(lambda df: df.tip.sum() > 100 and df.tip.sum() < 300)\n",
    "df.T\n",
    "\n",
    "df = grouped2.get_group(('Yes', 'Dinner'))\n",
    "df.T\n",
    "\n",
    "df = grouped2.get_group(('No', 'Lunch'))\n",
    "df.T\n",
    "```"
   ]
  },
  {
   "cell_type": "code",
   "execution_count": null,
   "metadata": {},
   "outputs": [],
   "source": []
  }
 ],
 "metadata": {
  "kernelspec": {
   "display_name": "Python 3",
   "language": "python",
   "name": "python3"
  },
  "language_info": {
   "codemirror_mode": {
    "name": "ipython",
    "version": 3
   },
   "file_extension": ".py",
   "mimetype": "text/x-python",
   "name": "python",
   "nbconvert_exporter": "python",
   "pygments_lexer": "ipython3",
   "version": "3.7.4"
  }
 },
 "nbformat": 4,
 "nbformat_minor": 4
}
