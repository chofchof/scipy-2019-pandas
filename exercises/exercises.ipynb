{
 "cells": [
  {
   "cell_type": "markdown",
   "metadata": {},
   "source": [
    "# Part 1 -- Intro"
   ]
  },
  {
   "cell_type": "markdown",
   "metadata": {},
   "source": [
    "Load the tips dataset from seaborn\n",
    "\n",
    "```\n",
    "import seaborn as sns\n",
    "\n",
    "tips = sns.load_dataset('tips')\n",
    "tips.info()\n",
    "tips.head()\n",
    "```"
   ]
  },
  {
   "cell_type": "code",
   "execution_count": null,
   "metadata": {},
   "outputs": [],
   "source": []
  },
  {
   "cell_type": "markdown",
   "metadata": {},
   "source": [
    "### Filter rows by `smoker == 'No'` and `total_bill >= 10`"
   ]
  },
  {
   "cell_type": "code",
   "execution_count": null,
   "metadata": {},
   "outputs": [],
   "source": []
  },
  {
   "cell_type": "markdown",
   "metadata": {},
   "source": [
    "### What is the average `total_bill` for each value of `smoker`, `day`, and `time`\n",
    "\n",
    "[**References**]\n",
    "- https://pandas.pydata.org/pandas-docs/stable/user_guide/groupby.html\n",
    "- https://pandas.pydata.org/pandas-docs/stable/reference/api/pandas.DataFrame.groupby.html\n",
    "\n",
    "```\n",
    "tips.groupby(['smoker', 'day', 'time'])\n",
    "tips.groupby(['smoker', 'day', 'time']).groups\n",
    "tips.groupby(['smoker', 'day', 'time'])['total_bill']\n",
    "tips.groupby(['smoker', 'day', 'time'])['total_bill'].mean()\n",
    "tips.groupby(['smoker', 'day', 'time'])['total_bill'].mean().reset_index()\n",
    "```"
   ]
  },
  {
   "cell_type": "code",
   "execution_count": null,
   "metadata": {},
   "outputs": [],
   "source": []
  },
  {
   "cell_type": "markdown",
   "metadata": {},
   "source": [
    "# Part 2 -- Tidy"
   ]
  },
  {
   "cell_type": "markdown",
   "metadata": {},
   "source": [
    "Taken from the r4ds \"Tidy Data\" Chapter: https://r4ds.had.co.nz/exploratory-data-analysis.html\n",
    "\n",
    "```\n",
    "import pandas as pd\n",
    "\n",
    "tbl1 = pd.read_csv('../data/table1.csv')\n",
    "tbl2 = pd.read_csv('../data/table2.csv')\n",
    "tbl3 = pd.read_csv('../data/table3.csv')\n",
    "\n",
    "# clean dataset\n",
    "tbl1\n",
    "```"
   ]
  },
  {
   "cell_type": "code",
   "execution_count": null,
   "metadata": {},
   "outputs": [],
   "source": []
  },
  {
   "cell_type": "markdown",
   "metadata": {},
   "source": [
    "### Tidy the `tbl2` dataset\n",
    "\n",
    "- Make `tbl1` from `tbl2` using `df.pivot_table()`\n",
    "\n",
    "```\n",
    "(tbl2\n",
    " .pivot_table(index=['country', 'year'],\n",
    "              columns='type',\n",
    "              values='count')\n",
    " .reset_index()\n",
    ")\n",
    "```"
   ]
  },
  {
   "cell_type": "code",
   "execution_count": null,
   "metadata": {},
   "outputs": [],
   "source": []
  },
  {
   "cell_type": "markdown",
   "metadata": {},
   "source": [
    "### Tidy the `tbl3` dataset\n",
    "\n",
    "- Make `tbl1` from `tbl3` by splitting the `rate` column\n",
    "\n",
    "```\n",
    "tbl3[['cases', 'population']] = tbl3['rate'].str.split('/', expand=True)\n",
    "tbl3.drop(columns='rate')\n",
    "```"
   ]
  },
  {
   "cell_type": "code",
   "execution_count": null,
   "metadata": {},
   "outputs": [],
   "source": []
  }
 ],
 "metadata": {
  "kernelspec": {
   "display_name": "Python 3",
   "language": "python",
   "name": "python3"
  },
  "language_info": {
   "codemirror_mode": {
    "name": "ipython",
    "version": 3
   },
   "file_extension": ".py",
   "mimetype": "text/x-python",
   "name": "python",
   "nbconvert_exporter": "python",
   "pygments_lexer": "ipython3",
   "version": "3.7.4"
  }
 },
 "nbformat": 4,
 "nbformat_minor": 4
}
